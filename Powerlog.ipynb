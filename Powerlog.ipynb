{
 "cells": [
  {
   "cell_type": "code",
   "execution_count": null,
   "metadata": {},
   "outputs": [],
   "source": [
    "from glob import glob\n",
    "import os \n",
    "import matplotlib\n",
    "import matplotlib.colors\n",
    "import matplotlib.pyplot as plt\n",
    "import matplotlib.patheffects as PathEffects\n",
    "import matplotlib.gridspec as gridspec\n",
    "from scipy import signal\n",
    "import pandas as pd\n",
    "import numpy as np\n",
    "import datetime\n",
    "\n",
    "\n",
    "import plotly.graph_objects as go"
   ]
  },
  {
   "cell_type": "markdown",
   "metadata": {},
   "source": [
    "# Read in the time series files of the power"
   ]
  },
  {
   "cell_type": "code",
   "execution_count": null,
   "metadata": {},
   "outputs": [],
   "source": [
    "matplotlib.rcParams['font.family'] = 'sans-serif'\n",
    "matplotlib.rcParams['font.sans-serif'] = ['Helvetica']\n",
    "matplotlib.rcParams['pdf.fonttype'] = 42\n",
    "matplotlib.rcParams['ps.fonttype'] = 42\n",
    "matplotlib.rcParams['font.size'] = 17"
   ]
  },
  {
   "cell_type": "code",
   "execution_count": null,
   "metadata": {},
   "outputs": [],
   "source": [
    "def getPowerLog(path):\n",
    "    with open(path) as f:\n",
    "        data = f.readlines()\n",
    "\n",
    "    datestring = ''.join(path.split(',')[-2:]).split('.')[0][1:]\n",
    "    datetime_object = datetime.datetime.strptime(datestring, '%B %d %Y')\n",
    "    datetime_object = datetime_object.replace(hour=11, minute=59)\n",
    "    \n",
    "    result = []; seconds = np.arange(0,60)\n",
    "    for line in data:\n",
    "        \n",
    "        line = line.replace('z', '0')\n",
    "        line = line.strip().replace('\\ufeff', '').split(',')\n",
    "        line_head = line[:2]\n",
    "\n",
    "        del line[:2]\n",
    "        del line[-1]\n",
    "\n",
    "        datetime_object = datetime_object.replace(hour=int(line_head[0]), \n",
    "                                                  minute=int(line_head[1]))\n",
    "\n",
    "        result += [(datetime_object.replace(second = seconds[index]), \n",
    "                         float(bit)) for index, bit in enumerate(line)]\n",
    "    result = pd.DataFrame(result)\n",
    "    result.columns = ['datetime', 'voltage']\n",
    "    return result "
   ]
  },
  {
   "cell_type": "code",
   "execution_count": null,
   "metadata": {},
   "outputs": [],
   "source": [
    "eaton_0 = pd.read_csv('Eaton_0.csv')\n",
    "eaton_1 = pd.read_csv('Eaton_1.csv')\n",
    "\n",
    "fig = go.Figure([   go.Scatter(x=eaton_1.X, y=eaton_1.CH1), \n",
    "                    go.Scatter(x=eaton_0.X, y=eaton_0.CH1) ,       \n",
    "                ])\n",
    "fig.update_layout(template=\"plotly_dark\")\n",
    "fig.show()"
   ]
  },
  {
   "cell_type": "code",
   "execution_count": null,
   "metadata": {},
   "outputs": [],
   "source": [
    "fs = 1 / (eaton_1.X[1:].astype('float')[2] - eaton_1.X[1:].astype('float')[1])"
   ]
  },
  {
   "cell_type": "code",
   "execution_count": null,
   "metadata": {},
   "outputs": [],
   "source": [
    "plt.figure(figsize = (13, 5))\n",
    "plt.subplot(121)\n",
    "plt.plot(eaton_1.X[1:].astype('float'), eaton_1.CH1[1:].astype('float'), c = 'r', \n",
    "         label = 'Through Eaton 9355')\n",
    "plt.plot(eaton_0.X[1:].astype('float'), eaton_0.CH1[1:].astype('float'), c = 'g', \n",
    "         label = 'Bypass Eaton 9355')\n",
    "plt.ylim(-6,6)\n",
    "plt.xlabel('relative time (s)')\n",
    "plt.ylabel('voltage (V)')\n",
    "plt.legend(frameon=False)\n",
    "\n",
    "plt.title('Time Domain')\n",
    "\n",
    "\n",
    "\n",
    "\n",
    "plt.subplot(122)\n",
    "f, Pxx_den = signal.periodogram(eaton_1.CH1[1:].astype('float'), fs)\n",
    "plt.semilogy(f, Pxx_den,  c = 'r', label = 'Through Eaton 9355')\n",
    "\n",
    "f, Pxx_den = signal.periodogram(eaton_0.CH1[1:].astype('float'), fs)\n",
    "plt.semilogy(f, Pxx_den, c = 'g', label = 'Bypass Eaton 9355')\n",
    "\n",
    "plt.ylim([1e-6, 1e2])\n",
    "plt.xlabel('frequency (Hz)')\n",
    "plt.ylabel('Power Spectral Denstiy ($V^2$/Hz)')\n",
    "plt.legend(frameon=False)\n",
    "plt.title('Frequency Domain')\n",
    "\n",
    "plt.suptitle('Comparsion observed at UP1A 6, NPL1', y = 1.05)\n",
    "plt.tight_layout()\n",
    "plt.savefig('Eaton 9355.pdf', transparent = True, dip = 300)\n",
    "plt.show()"
   ]
  },
  {
   "cell_type": "code",
   "execution_count": null,
   "metadata": {},
   "outputs": [],
   "source": []
  },
  {
   "cell_type": "code",
   "execution_count": null,
   "metadata": {},
   "outputs": [],
   "source": []
  },
  {
   "cell_type": "markdown",
   "metadata": {},
   "source": [
    "## The master dataframe df for the voltage values each second"
   ]
  },
  {
   "cell_type": "code",
   "execution_count": null,
   "metadata": {},
   "outputs": [],
   "source": [
    "%%time\n",
    "df = pd.concat([getPowerLog(file) for file in glob('*.dlg')])\n",
    "df = df.sort_values(by=['datetime'])"
   ]
  },
  {
   "cell_type": "code",
   "execution_count": null,
   "metadata": {},
   "outputs": [],
   "source": []
  },
  {
   "cell_type": "code",
   "execution_count": null,
   "metadata": {},
   "outputs": [],
   "source": [
    "df.to_csv('powerlog.csv', index = False)"
   ]
  },
  {
   "cell_type": "code",
   "execution_count": null,
   "metadata": {},
   "outputs": [],
   "source": [
    "fig = go.Figure([go.Scatter(x=df[-8000:].datetime, y=df[-8000:].voltage)])\n",
    "fig.update_layout(template=\"plotly_dark\")\n",
    "fig.show()"
   ]
  },
  {
   "cell_type": "code",
   "execution_count": null,
   "metadata": {},
   "outputs": [],
   "source": [
    "#fig = go.Figure([go.Scatter(x=df.datetime, y=df.voltage)])\n",
    "#fig.update_layout(template=\"plotly_dark\")\n",
    "#fig.show()"
   ]
  },
  {
   "cell_type": "code",
   "execution_count": null,
   "metadata": {},
   "outputs": [],
   "source": [
    "plt.figure(figsize=(15, 5))\n",
    "plt.plot(df[-8000:].datetime, df[-8000:].voltage, marker = 'd', lw = 0.1,  markersize = 2, c = 'red')\n",
    "\n",
    "plt.savefig('summary.pdf', dpi = 300)"
   ]
  },
  {
   "cell_type": "code",
   "execution_count": null,
   "metadata": {},
   "outputs": [],
   "source": []
  },
  {
   "cell_type": "markdown",
   "metadata": {},
   "source": [
    "# Reading the event log files .drp"
   ]
  },
  {
   "cell_type": "code",
   "execution_count": null,
   "metadata": {},
   "outputs": [],
   "source": [
    "log = []\n",
    "for file in glob('*.drp'):\n",
    "    with open(file) as f:\n",
    "        data = f.readlines()\n",
    "        log += data\n",
    "log = [line.replace('\\ufeff', '').strip() for line in log]\n",
    "\n",
    "log_start = [line for line in log if \"start\" in line]\n",
    "log_start = [datetime.datetime.strptime(line.split('day, ')[-1], '%B %d, %Y, %I:%M:%S %p') for line in log_start]\n",
    "\n",
    "log_end = [line for line in log if \"stop\" in line]\n",
    "log_end = [datetime.datetime.strptime(line.split('day, ')[-1], '%B %d, %Y, %I:%M:%S %p') for line in log_end]\n",
    "\n",
    "log_event = [line for line in log if \"Event\" in line]\n",
    "log_event = [(datetime.datetime.strptime(''.join(line.split(',')[:2]), '%m-%d-%Y %I:%M:%S %p'), \n",
    "                  line.split('-')[-1].replace('>', '').strip() ) \\\n",
    "                     for line in log_event]\n",
    "\n",
    "log_event = pd.DataFrame(log_event)\n",
    "log_event.columns = ['datetime', 'event']"
   ]
  },
  {
   "cell_type": "code",
   "execution_count": null,
   "metadata": {},
   "outputs": [],
   "source": [
    "log_start"
   ]
  },
  {
   "cell_type": "code",
   "execution_count": null,
   "metadata": {},
   "outputs": [],
   "source": [
    "log_end"
   ]
  },
  {
   "cell_type": "code",
   "execution_count": null,
   "metadata": {},
   "outputs": [],
   "source": [
    "log_event = log_event.sort_values(by = 'datetime')\n",
    "log_event.to_csv('eventlog.csv', index = False)"
   ]
  },
  {
   "cell_type": "code",
   "execution_count": null,
   "metadata": {},
   "outputs": [],
   "source": [
    "log_event"
   ]
  },
  {
   "cell_type": "code",
   "execution_count": null,
   "metadata": {},
   "outputs": [],
   "source": []
  }
 ],
 "metadata": {
  "kernelspec": {
   "display_name": "Python 3",
   "language": "python",
   "name": "python3"
  },
  "language_info": {
   "codemirror_mode": {
    "name": "ipython",
    "version": 3
   },
   "file_extension": ".py",
   "mimetype": "text/x-python",
   "name": "python",
   "nbconvert_exporter": "python",
   "pygments_lexer": "ipython3",
   "version": "3.7.4"
  }
 },
 "nbformat": 4,
 "nbformat_minor": 2
}
